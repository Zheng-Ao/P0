{
 "cells": [
  {
   "cell_type": "markdown",
   "metadata": {},
   "source": [
    "# Dataset test"
   ]
  },
  {
   "cell_type": "code",
   "execution_count": 2,
   "metadata": {},
   "outputs": [],
   "source": [
    "import pandas as pd\n",
    "\n",
    "raw_data = pd.read_csv(\"T10K.csv\")"
   ]
  },
  {
   "cell_type": "code",
   "execution_count": 10,
   "metadata": {},
   "outputs": [
    {
     "data": {
      "text/plain": [
       "[{'inventor_sequence': '0', 'inventor_key_id': '2279330'}]"
      ]
     },
     "execution_count": 10,
     "metadata": {},
     "output_type": "execute_result"
    }
   ],
   "source": [
    "eval(raw_data[\"inventors\"].values[0])"
   ]
  },
  {
   "cell_type": "code",
   "execution_count": 7,
   "metadata": {},
   "outputs": [
    {
     "data": {
      "text/plain": [
       "str"
      ]
     },
     "execution_count": 7,
     "metadata": {},
     "output_type": "execute_result"
    }
   ],
   "source": [
    "type(raw_data[\"inventors\"].values[0])"
   ]
  },
  {
   "cell_type": "code",
   "execution_count": 26,
   "metadata": {},
   "outputs": [
    {
     "data": {
      "text/plain": [
       "dict"
      ]
     },
     "execution_count": 26,
     "metadata": {},
     "output_type": "execute_result"
    }
   ],
   "source": [
    "type(eval(raw_data[\"assignees\"].values[2])[0])"
   ]
  },
  {
   "cell_type": "code",
   "execution_count": 21,
   "metadata": {},
   "outputs": [
    {
     "data": {
      "text/plain": [
       "array([\"[{'assignee_sequence': '0', 'assignee_key_id': '165076'}]\",\n",
       "       \"[{'assignee_sequence': None, 'assignee_key_id': None}]\",\n",
       "       \"[{'assignee_sequence': '0', 'assignee_key_id': '381'}]\", ...,\n",
       "       \"[{'assignee_sequence': '0', 'assignee_key_id': '1911'}]\",\n",
       "       \"[{'assignee_sequence': '0', 'assignee_key_id': '1911'}]\",\n",
       "       \"[{'assignee_sequence': '0', 'assignee_key_id': '181040'}]\"],\n",
       "      dtype=object)"
      ]
     },
     "execution_count": 21,
     "metadata": {},
     "output_type": "execute_result"
    }
   ],
   "source": [
    "raw_data[\"assignees\"].values"
   ]
  },
  {
   "cell_type": "code",
   "execution_count": 28,
   "metadata": {},
   "outputs": [
    {
     "data": {
      "text/plain": [
       "array([0, '3930276', '1976-01-06', 4,\n",
       "       'Wheel spinning and vehicle conveying apparatus for automatic wheel washers',\n",
       "       'An automobile conveyor for use in conjunction with a wheel spinning device for an automatic wheel washer including an endless chain having a plurality of selectively engageable dogs pivotally secured thereto. The dogs normally travel in a position to urge an auto through the washer whereat the outboard end is in close association with the chain and beneath the automobile first supporting surface. Operating means are included whereby when an automobile is in position at least one of the dogs will be automatically moved to a position where the dog extends above the automobile supporting surface, contacts a wheel, and urges the car through the washer apparatus. At the wheel spinning and washing station the chain is forced downwardly to a position whereat it passes beneath the mechanism necessary to perform the wheel spinning operation while still retaining the outboard end of the dog above the automobile supporting surface. The continual contact by the dog assures that the automobile moves through the washer apparatus in a continuous motion.',\n",
       "       12, 2,\n",
       "       \"[{'inventor_sequence': '0', 'inventor_key_id': '2279330'}]\",\n",
       "       \"[{'assignee_sequence': '0', 'assignee_key_id': '165076'}]\",\n",
       "       \"[{'ipc_sequence': '0'}]\", \"[{'cited_patent_date': None}]\"],\n",
       "      dtype=object)"
      ]
     },
     "execution_count": 28,
     "metadata": {},
     "output_type": "execute_result"
    }
   ],
   "source": [
    "raw_data.values[0]"
   ]
  },
  {
   "cell_type": "markdown",
   "metadata": {},
   "source": [
    "# Other Test"
   ]
  },
  {
   "cell_type": "code",
   "execution_count": 1,
   "metadata": {},
   "outputs": [
    {
     "data": {
      "text/plain": [
       "0.8571428571428571"
      ]
     },
     "execution_count": 1,
     "metadata": {},
     "output_type": "execute_result"
    }
   ],
   "source": [
    "6/7"
   ]
  },
  {
   "cell_type": "code",
   "execution_count": null,
   "metadata": {},
   "outputs": [],
   "source": []
  }
 ],
 "metadata": {
  "kernelspec": {
   "display_name": "Python 3.8.11 ('DataAnalysis')",
   "language": "python",
   "name": "python3"
  },
  "language_info": {
   "codemirror_mode": {
    "name": "ipython",
    "version": 3
   },
   "file_extension": ".py",
   "mimetype": "text/x-python",
   "name": "python",
   "nbconvert_exporter": "python",
   "pygments_lexer": "ipython3",
   "version": "3.8.11"
  },
  "orig_nbformat": 4,
  "vscode": {
   "interpreter": {
    "hash": "c18f0d304bfd4ea88d1106146a85daf3cb92cb10206ff0ef630b4b8ca37137ad"
   }
  }
 },
 "nbformat": 4,
 "nbformat_minor": 2
}
